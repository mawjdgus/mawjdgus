{
 "cells": [
  {
   "cell_type": "code",
   "execution_count": 12,
   "metadata": {},
   "outputs": [],
   "source": [
    "import torch\n",
    "import datasets\n",
    "import torchvision\n",
    "import torch.distributed as dist\n",
    "\n"
   ]
  },
  {
   "cell_type": "code",
   "execution_count": 13,
   "metadata": {},
   "outputs": [],
   "source": [
    "origin_dataset = datasets.load_dataset('imagenet', '/home/data/Imagenet/', 'pair', batch_size=4)\n",
    "custom_dataset = datasets.CustomDataset('/home/data/Imagenet')"
   ]
  },
  {
   "cell_type": "code",
   "execution_count": 14,
   "metadata": {},
   "outputs": [],
   "source": [
    "custom_dataset = torch.utils.data.DataLoader(custom_dataset,batch_size=4,shuffle=True)"
   ]
  },
  {
   "cell_type": "code",
   "execution_count": 16,
   "metadata": {},
   "outputs": [
    {
     "data": {
      "text/plain": [
       "torch.Size([8, 3, 224, 224])"
      ]
     },
     "execution_count": 16,
     "metadata": {},
     "output_type": "execute_result"
    }
   ],
   "source": [
    "next(iter(origin_dataset[0]))[0].shape"
   ]
  },
  {
   "cell_type": "code",
   "execution_count": 17,
   "metadata": {},
   "outputs": [
    {
     "data": {
      "text/plain": [
       "torch.Size([4, 3, 224, 224])"
      ]
     },
     "execution_count": 17,
     "metadata": {},
     "output_type": "execute_result"
    }
   ],
   "source": [
    "next(iter(custom_dataset))[0].shape"
   ]
  },
  {
   "cell_type": "code",
   "execution_count": null,
   "metadata": {},
   "outputs": [
    {
     "ename": "TypeError",
     "evalue": "'DataLoader' object is not subscriptable",
     "output_type": "error",
     "traceback": [
      "\u001b[0;31m---------------------------------------------------------------------------\u001b[0m",
      "\u001b[0;31mTypeError\u001b[0m                                 Traceback (most recent call last)",
      "\u001b[0;32m/tmp/ipykernel_44460/3947824613.py\u001b[0m in \u001b[0;36m<module>\u001b[0;34m\u001b[0m\n\u001b[0;32m----> 1\u001b[0;31m \u001b[0mcustom_dataset\u001b[0m\u001b[0;34m[\u001b[0m\u001b[0;36m0\u001b[0m\u001b[0;34m]\u001b[0m\u001b[0;34m\u001b[0m\u001b[0;34m\u001b[0m\u001b[0m\n\u001b[0m",
      "\u001b[0;31mTypeError\u001b[0m: 'DataLoader' object is not subscriptable"
     ]
    }
   ],
   "source": []
  },
  {
   "cell_type": "code",
   "execution_count": 16,
   "metadata": {},
   "outputs": [],
   "source": [
    "import torch\n",
    "import torch.nn as nn\n",
    "from torch.utils.data import Dataset, DataLoader\n",
    "\n",
    "input_size = 3\n",
    "output_size = 2\n",
    "\n",
    "batch_size = 30\n",
    "data_size = 100\n",
    "\n",
    "device = torch.device(\"cuda:0\" if torch.cuda.is_available() else \"cpu\")"
   ]
  },
  {
   "cell_type": "code",
   "execution_count": 17,
   "metadata": {},
   "outputs": [],
   "source": [
    "class RandomDataset(Dataset):\n",
    "    def __init__(self, size, length):\n",
    "        self.len = length\n",
    "        self.data = torch.randn(length, size)\n",
    "        \n",
    "    def __getitem__(self, index):\n",
    "        return self.data[index]\n",
    "    \n",
    "    def __len__(self):\n",
    "        return self.len\n",
    "\n",
    "\n",
    "rand_loader = DataLoader(dataset=RandomDataset(input_size,data_size), batch_size=batch_size, shuffle=True)"
   ]
  },
  {
   "cell_type": "code",
   "execution_count": 18,
   "metadata": {},
   "outputs": [],
   "source": [
    "class Model(nn.Module):\n",
    "    def __init__(self, input_size, output_size):\n",
    "        super(Model, self).__init__()\n",
    "        self.fc = nn.Linear(input_size, output_size)\n",
    "        \n",
    "    def forward(self, input):\n",
    "        output = self.fc(input)\n",
    "        print(\"\\t In Model : input size\", input.size(), \"output size\", output.size())\n",
    "        return output"
   ]
  },
  {
   "cell_type": "code",
   "execution_count": 19,
   "metadata": {},
   "outputs": [
    {
     "name": "stdout",
     "output_type": "stream",
     "text": [
      "Let's use 8 GPUs!\n"
     ]
    },
    {
     "data": {
      "text/plain": [
       "DataParallel(\n",
       "  (module): Model(\n",
       "    (fc): Linear(in_features=3, out_features=2, bias=True)\n",
       "  )\n",
       ")"
      ]
     },
     "execution_count": 19,
     "metadata": {},
     "output_type": "execute_result"
    }
   ],
   "source": [
    "model = Model(input_size, output_size)\n",
    "\n",
    "if torch.cuda.device_count() > 1:\n",
    "    print(\"Let's use\", torch.cuda.device_count(), \"GPUs!\")\n",
    "    \n",
    "    model = nn.DataParallel(model)\n",
    "\n",
    "model.to(device)"
   ]
  },
  {
   "cell_type": "code",
   "execution_count": 20,
   "metadata": {},
   "outputs": [
    {
     "name": "stdout",
     "output_type": "stream",
     "text": [
      "\t In Model : input size torch.Size([4, 3]) output size torch.Size([4, 2])\n",
      "\t In Model : input size torch.Size([4, 3]) output size torch.Size([4, 2])\n",
      "\t In Model : input size torch.Size([4, 3]) output size torch.Size([4, 2])\n",
      "\t In Model : input size torch.Size([4, 3]) output size torch.Size([4, 2])\n",
      "\t In Model : input size torch.Size([4, 3]) output size torch.Size([4, 2])\n",
      "\t In Model : input size torch.Size([4, 3]) output size torch.Size([4, 2])\n",
      "\t In Model : input size torch.Size([4, 3]) output size torch.Size([4, 2])\n",
      "\t In Model : input size torch.Size([2, 3]) output size torch.Size([2, 2])\n",
      "Outside: input size torch.Size([30, 3]) output_size torch.Size([30, 2])\n",
      "\t In Model : input size torch.Size([4, 3]) output size torch.Size([4, 2])\n",
      "\t In Model : input size torch.Size([4, 3]) output size torch.Size([4, 2])\n",
      "\t In Model : input size torch.Size([4, 3]) output size torch.Size([4, 2])\n",
      "\t In Model : input size torch.Size([4, 3]) output size torch.Size([4, 2])\n",
      "\t In Model : input size torch.Size([4, 3]) output size torch.Size([4, 2])\n",
      "\t In Model : input size torch.Size([4, 3]) output size torch.Size([4, 2])\n",
      "\t In Model : input size torch.Size([4, 3]) output size torch.Size([4, 2])\n",
      "\t In Model : input size torch.Size([2, 3]) output size torch.Size([2, 2])\n",
      "Outside: input size torch.Size([30, 3]) output_size torch.Size([30, 2])\n",
      "\t In Model : input size torch.Size([4, 3]) output size torch.Size([4, 2])\n",
      "\t In Model : input size torch.Size([4, 3]) output size torch.Size([4, 2])\n",
      "\t In Model : input size torch.Size([4, 3]) output size torch.Size([4, 2])\n",
      "\t In Model : input size torch.Size([4, 3]) output size torch.Size([4, 2])\n",
      "\t In Model : input size torch.Size([4, 3]) output size torch.Size([4, 2])\n",
      "\t In Model : input size torch.Size([4, 3]) output size torch.Size([4, 2])\n",
      "\t In Model : input size torch.Size([4, 3]) output size torch.Size([4, 2])\n",
      "\t In Model : input size torch.Size([2, 3]) output size torch.Size([2, 2])\n",
      "Outside: input size torch.Size([30, 3]) output_size torch.Size([30, 2])\n",
      "\t In Model : input size torch.Size([2, 3]) output size torch.Size([2, 2])\n",
      "\t In Model : input size torch.Size([2, 3]) output size torch.Size([2, 2])\n",
      "\t In Model : input size torch.Size([2, 3]) output size torch.Size([2, 2])\n",
      "\t In Model : input size torch.Size([2, 3]) output size torch.Size([2, 2])\n",
      "\t In Model : input size torch.Size([2, 3]) output size torch.Size([2, 2])\n",
      "Outside: input size torch.Size([10, 3]) output_size torch.Size([10, 2])\n"
     ]
    }
   ],
   "source": [
    "for data in rand_loader:\n",
    "    input = data.to(device)\n",
    "    output = model(input)\n",
    "    print(\"Outside: input size\", input.size(),\n",
    "          \"output_size\", output.size())"
   ]
  },
  {
   "cell_type": "code",
   "execution_count": null,
   "metadata": {},
   "outputs": [],
   "source": []
  }
 ],
 "metadata": {
  "interpreter": {
   "hash": "7c70d69f793864dc545042760c894f817afd2815513f58e05b35c10bfb73c10a"
  },
  "kernelspec": {
   "display_name": "Python 3.7.11 64-bit ('VFP': conda)",
   "language": "python",
   "name": "python3"
  },
  "language_info": {
   "codemirror_mode": {
    "name": "ipython",
    "version": 3
   },
   "file_extension": ".py",
   "mimetype": "text/x-python",
   "name": "python",
   "nbconvert_exporter": "python",
   "pygments_lexer": "ipython3",
   "version": "3.7.11"
  },
  "orig_nbformat": 4
 },
 "nbformat": 4,
 "nbformat_minor": 2
}
